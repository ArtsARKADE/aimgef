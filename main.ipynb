{
 "cells": [
  {
   "attachments": {},
   "cell_type": "markdown",
   "metadata": {},
   "source": [
    "# Data"
   ]
  },
  {
   "cell_type": "code",
   "execution_count": null,
   "metadata": {},
   "outputs": [],
   "source": [
    "# Pull assets\n",
    "!git submodule update --init --recursive"
   ]
  },
  {
   "attachments": {},
   "cell_type": "markdown",
   "metadata": {},
   "source": [
    "## Process MIDI files\n",
    "Convert each MIDI file into a sequence of events as described in the paper, and saved as a npy file."
   ]
  },
  {
   "attachments": {},
   "cell_type": "markdown",
   "metadata": {},
   "source": [
    "### Classical String Quartets"
   ]
  },
  {
   "cell_type": "code",
   "execution_count": null,
   "metadata": {},
   "outputs": [],
   "source": [
    "import os\n",
    "import json\n",
    "import numpy as np\n",
    "from tqdm import tqdm\n",
    "from utilities.midi_io import MIDI\n",
    "from utilities import mkdir\n",
    "\n",
    "# Specify the time quantization set and time unit\n",
    "from models import CSQ_TIME_QUANTIZATION\n",
    "time_unit = \"crotchet\"\n",
    "\n",
    "# Specify data augmentation parameters\n",
    "# pitch_shifts = [-3, -2, -1, 0, 1, 2, 3]\n",
    "# time_scales = [0.95, 0.975, 1.0, 1.025, 1.05]\n",
    "\n",
    "# Uncomment the following lines for no augmentation\n",
    "pitch_shifts = [0]\n",
    "time_scales = [1.0]\n",
    "\n",
    "# Get the list of midi files\n",
    "index_filename = \"aimgef-assets/CSQ/fast_first/index.json\"\n",
    "with open(index_filename, mode=\"r\") as f:\n",
    "    midi_list = json.load(f)\n",
    "\n",
    "# Start processing\n",
    "for midi in tqdm(midi_list):\n",
    "    valid_set = [1211, 1219, 1240, 1827, 1893, 2322, 2368]\n",
    "    split = \"train\" if midi[\"ID\"] not in valid_set else \"validation\"\n",
    "\n",
    "    for ps in pitch_shifts:\n",
    "        for ts in time_scales:\n",
    "            mid = MIDI(\n",
    "                time_quantization=CSQ_TIME_QUANTIZATION,\n",
    "                time_unit=time_unit\n",
    "            )\n",
    "            # The dimensions of sequence is [num_tracks, num_tokens]\n",
    "            # num_tracks is 1 if merge_tracks is True\n",
    "            sequence = mid.process(\n",
    "                filename=os.path.join(\n",
    "                    \"aimgef-assets/CSQ/fast_first/midi\",\n",
    "                    f'{midi[\"ID\"]}.mid'\n",
    "                ),\n",
    "                ignore_velocity=True,\n",
    "                merge_tracks=True,\n",
    "                pitch_shift=ps,\n",
    "                time_scale=ts\n",
    "            )\n",
    "            filename = os.path.join(\n",
    "                \"datasets\",\n",
    "                \"CSQ\",\n",
    "                split,\n",
    "                f'{midi[\"ID\"]}_p[{ps}]_t[{ts}].npy'\n",
    "            )\n",
    "            mkdir(filename)\n",
    "            np.save(filename, np.array(sequence[0], dtype=int))\n"
   ]
  },
  {
   "attachments": {},
   "cell_type": "markdown",
   "metadata": {},
   "source": [
    "### Sanity check\n",
    "For several reasons, the decoded mid file will not always be the same as the original:\n",
    "- If tracks are merged during encoding, note on and off pairs could be mismatched\n",
    "- The defined TIME_QUANTIZATION is not fine enough"
   ]
  },
  {
   "cell_type": "code",
   "execution_count": null,
   "metadata": {},
   "outputs": [],
   "source": [
    "import numpy as np\n",
    "from utilities.midi_io import MIDI\n",
    "from models import CSQ_TIME_QUANTIZATION\n",
    "\n",
    "mid = MIDI(\n",
    "    time_quantization=CSQ_TIME_QUANTIZATION,\n",
    "    time_unit=\"crotchet\",\n",
    ")\n",
    "seq = np.load(\"datasets/CSQ/validation/1240_p[0]_t[1.0].npy\")\n",
    "pm = mid.to_midi(seq, tempo=128)\n",
    "pm.write(\"scratch/1240_p[0]_t[1.0].mid\")"
   ]
  },
  {
   "attachments": {},
   "cell_type": "markdown",
   "metadata": {},
   "source": [
    "### Classical Piano Improvisations"
   ]
  },
  {
   "cell_type": "code",
   "execution_count": null,
   "metadata": {},
   "outputs": [],
   "source": [
    "# Download maestro dataset (zip)\n",
    "import wget\n",
    "maestro_url = \"https://storage.googleapis.com/magentadata/datasets/maestro/v3.0.0/maestro-v3.0.0-midi.zip\"\n",
    "wget.download(maestro_url, out=\"scratch\")"
   ]
  },
  {
   "cell_type": "code",
   "execution_count": null,
   "metadata": {},
   "outputs": [],
   "source": [
    "# Unzip\n",
    "import zipfile\n",
    "with zipfile.ZipFile(\"scratch/maestro-v3.0.0-midi.zip\", 'r') as zip_ref:\n",
    "    zip_ref.extractall(\"scratch\")"
   ]
  },
  {
   "cell_type": "code",
   "execution_count": null,
   "metadata": {},
   "outputs": [],
   "source": [
    "import os\n",
    "import numpy as np\n",
    "from pathlib import Path\n",
    "from tqdm import tqdm\n",
    "from utilities.midi_io import MIDI\n",
    "from utilities import mkdir, get_maestro_midi_list\n",
    "\n",
    "# Specify the time quantization set and time unit\n",
    "from models import CPI_TIME_QUANTIZATION\n",
    "time_unit = \"time\"\n",
    "\n",
    "# Specify data augmentation parameters\n",
    "# pitch_shifts = [-3, -2, -1, 0, 1, 2, 3]\n",
    "# time_scales = [0.95, 0.975, 1.0, 1.025, 1.05]\n",
    "\n",
    "# Uncomment the following lines for no augmentation\n",
    "pitch_shifts = [0]\n",
    "time_scales = [1.0]\n",
    "\n",
    "# Get the list of midi files\n",
    "for split in [\"test\", \"validation\", \"train\"]:\n",
    "    midi_list = get_maestro_midi_list(\n",
    "        \"scratch/maestro-v3.0.0/maestro-v3.0.0.json\",\n",
    "        split\n",
    "    )\n",
    "\n",
    "    # Start processing\n",
    "    for midi in tqdm(midi_list):\n",
    "        for ps in pitch_shifts:\n",
    "            for ts in time_scales:\n",
    "                mid = MIDI(\n",
    "                    time_quantization=CPI_TIME_QUANTIZATION,\n",
    "                    time_unit=time_unit\n",
    "                )\n",
    "                # The dimensions of sequence is [num_tracks, num_tokens]\n",
    "                # num_tracks is 1 if merge_tracks is True\n",
    "                sequence = mid.process(\n",
    "                    filename=os.path.join(\n",
    "                        \"scratch/maestro-v3.0.0\",\n",
    "                        midi\n",
    "                    ),\n",
    "                    ignore_velocity=True,\n",
    "                    merge_tracks=True,\n",
    "                    pitch_shift=ps,\n",
    "                    time_scale=ts\n",
    "                )\n",
    "                filename = os.path.join(\n",
    "                    \"datasets\",\n",
    "                    \"CPI\",\n",
    "                    split,\n",
    "                    f'{Path(midi).stem}_p[{ps}]_t[{ts}].npy'\n",
    "                )\n",
    "                mkdir(filename)\n",
    "                np.save(filename, np.array(sequence, dtype=int))\n"
   ]
  },
  {
   "attachments": {},
   "cell_type": "markdown",
   "metadata": {},
   "source": [
    "# Model Training"
   ]
  },
  {
   "attachments": {},
   "cell_type": "markdown",
   "metadata": {},
   "source": [
    "## CSQ-Transformer"
   ]
  },
  {
   "cell_type": "code",
   "execution_count": null,
   "metadata": {},
   "outputs": [],
   "source": [
    "import torch\n",
    "from models.trainer import MTTrainer\n",
    "\n",
    "device = torch.device(\"cuda\" if torch.cuda.is_available() else \"cpu\")\n",
    "\n",
    "# Specify the trainer\n",
    "cfg_path = \"configs/csq_transformer.yaml\"\n",
    "trainer = MTTrainer(cfg_path=cfg_path, device=device)\n",
    "trainer.train()"
   ]
  }
 ],
 "metadata": {
  "kernelspec": {
   "display_name": "aimgef",
   "language": "python",
   "name": "python3"
  },
  "language_info": {
   "codemirror_mode": {
    "name": "ipython",
    "version": 3
   },
   "file_extension": ".py",
   "mimetype": "text/x-python",
   "name": "python",
   "nbconvert_exporter": "python",
   "pygments_lexer": "ipython3",
   "version": "3.9.16"
  },
  "orig_nbformat": 4,
  "vscode": {
   "interpreter": {
    "hash": "21669b83308f2670f5d1dacd9cba78799764a00ec55275d3d4a7124debaba5ea"
   }
  }
 },
 "nbformat": 4,
 "nbformat_minor": 2
}

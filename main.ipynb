{
 "cells": [
  {
   "attachments": {},
   "cell_type": "markdown",
   "metadata": {},
   "source": [
    "# Data"
   ]
  },
  {
   "cell_type": "code",
   "execution_count": 1,
   "metadata": {},
   "outputs": [],
   "source": [
    "# Pull assets\n",
    "!git submodule update --init --recursive"
   ]
  },
  {
   "attachments": {},
   "cell_type": "markdown",
   "metadata": {},
   "source": [
    "## Process MIDI files\n",
    "Convert each MIDI file into a sequence of events as described in the paper, and saved as a npy file."
   ]
  },
  {
   "attachments": {},
   "cell_type": "markdown",
   "metadata": {},
   "source": [
    "### Classical String Quartets"
   ]
  },
  {
   "cell_type": "code",
   "execution_count": 1,
   "metadata": {},
   "outputs": [
    {
     "name": "stderr",
     "output_type": "stream",
     "text": [
      "100%|██████████| 71/71 [00:18<00:00,  3.90it/s]\n"
     ]
    }
   ],
   "source": [
    "import os\n",
    "import json\n",
    "import numpy as np\n",
    "from tqdm import tqdm\n",
    "from utilities.midi_io import MIDI\n",
    "from utilities import mkdir\n",
    "\n",
    "# Specify the time quantization set and time unit\n",
    "from models import CSQ_TIME_QUANTIZATION\n",
    "time_unit = \"crotchet\"\n",
    "\n",
    "# Specify data augmentation parameters\n",
    "# pitch_shifts = [-3, -2, -1, 0, 1, 2, 3]\n",
    "# time_scales = [0.95, 0.975, 1.0, 1.025, 1.05]\n",
    "\n",
    "# Uncomment the following lines for no augmentation\n",
    "pitch_shifts = [0]\n",
    "time_scales = [1.0]\n",
    "\n",
    "# Get the list of midi files\n",
    "index_filename = \"aimgef-assets/CSQ/fast_first/index.json\"\n",
    "with open(index_filename, mode=\"r\") as f:\n",
    "    midi_list = json.load(f)\n",
    "\n",
    "# Start processing\n",
    "for midi in tqdm(midi_list):\n",
    "    valid_set = [1211, 1219, 1240, 1827, 1893, 2322, 2368]\n",
    "    split = \"train\" if midi[\"ID\"] not in valid_set else \"validation\"\n",
    "\n",
    "    for ps in pitch_shifts:\n",
    "        for ts in time_scales:\n",
    "            mid = MIDI(\n",
    "                time_quantization=CSQ_TIME_QUANTIZATION,\n",
    "                time_unit=time_unit\n",
    "            )\n",
    "            # The dimensions of sequence is [num_tracks, num_tokens]\n",
    "            # num_tracks is 1 if merge_tracks is True\n",
    "            sequence = mid.process(\n",
    "                filename=os.path.join(\n",
    "                    \"aimgef-assets/CSQ/fast_first/midi\",\n",
    "                    f'{midi[\"ID\"]}.mid'\n",
    "                ),\n",
    "                ignore_velocity=True,\n",
    "                merge_tracks=False,\n",
    "                pitch_shift=ps,\n",
    "                time_scale=ts\n",
    "            )\n",
    "            filename = os.path.join(\n",
    "                \"datasets\",\n",
    "                \"CSQ\",\n",
    "                split,\n",
    "                f'{midi[\"ID\"]}_p[{ps}]_t[{ts}].npy'\n",
    "            )\n",
    "            mkdir(filename)\n",
    "            np.save(filename, np.array(sequence, dtype=int))\n"
   ]
  },
  {
   "attachments": {},
   "cell_type": "markdown",
   "metadata": {},
   "source": [
    "### Plot the processed sequence"
   ]
  },
  {
   "cell_type": "code",
   "execution_count": 1,
   "metadata": {},
   "outputs": [],
   "source": [
    "import numpy as np\n",
    "from utilities.midi_io import MIDI\n",
    "from models import CSQ_TIME_QUANTIZATION\n",
    "\n",
    "mid = MIDI(\n",
    "    time_quantization=CSQ_TIME_QUANTIZATION,\n",
    "    time_unit=\"crotchet\",\n",
    ")\n",
    "seq = mid.process(\"scratch/test_midi_like_decoding.mid\", ignore_velocity=False, merge_tracks=False, pitch_shift=0, time_scale=1)\n",
    "\n",
    "\n",
    "mid_rec = MIDI(\n",
    "    time_quantization=CSQ_TIME_QUANTIZATION,\n",
    "    time_unit=\"crotchet\",\n",
    ")\n",
    "\n",
    "pm = mid_rec.to_midi(seq)\n",
    "pm.write(\"scratch/out.mid\")\n"
   ]
  }
 ],
 "metadata": {
  "kernelspec": {
   "display_name": "aimgef",
   "language": "python",
   "name": "python3"
  },
  "language_info": {
   "codemirror_mode": {
    "name": "ipython",
    "version": 3
   },
   "file_extension": ".py",
   "mimetype": "text/x-python",
   "name": "python",
   "nbconvert_exporter": "python",
   "pygments_lexer": "ipython3",
   "version": "3.9.16"
  },
  "orig_nbformat": 4,
  "vscode": {
   "interpreter": {
    "hash": "21669b83308f2670f5d1dacd9cba78799764a00ec55275d3d4a7124debaba5ea"
   }
  }
 },
 "nbformat": 4,
 "nbformat_minor": 2
}

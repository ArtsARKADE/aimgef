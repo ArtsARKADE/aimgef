{
 "cells": [
  {
   "attachments": {},
   "cell_type": "markdown",
   "metadata": {},
   "source": [
    "# Data"
   ]
  },
  {
   "cell_type": "code",
   "execution_count": 1,
   "metadata": {},
   "outputs": [],
   "source": [
    "# Pull assets\n",
    "!git submodule update --init --recursive"
   ]
  },
  {
   "attachments": {},
   "cell_type": "markdown",
   "metadata": {},
   "source": [
    "### Process MIDI files\n",
    "Each MIDI file will be converted into a sequence of events as described in the paper, and saved as a npy file."
   ]
  },
  {
   "cell_type": "code",
   "execution_count": 2,
   "metadata": {},
   "outputs": [
    {
     "name": "stderr",
     "output_type": "stream",
     "text": [
      "100%|██████████| 71/71 [01:46<00:00,  1.50s/it]\n"
     ]
    }
   ],
   "source": [
    "from utilities.preprocess import preprocess\n",
    "# Use `aug` to turn on/off data augmentation, including pitch transposition and time scaling.\n",
    "preprocess(style='CSQ', aug=True)"
   ]
  },
  {
   "attachments": {},
   "cell_type": "markdown",
   "metadata": {},
   "source": [
    "### Plot the processed sequence"
   ]
  },
  {
   "cell_type": "code",
   "execution_count": 1,
   "metadata": {},
   "outputs": [],
   "source": [
    "from utilities.midi_io import MIDI\n",
    "from models import CPI_TIME_QUANTIZATION\n",
    "\n",
    "mid = MIDI(\n",
    "    time_quantization=CPI_TIME_QUANTIZATION,\n",
    "    time_unit=\"time\",\n",
    "    filename=\"scratch/e0_fake_generated_piece_10_0.mid\"\n",
    ")\n",
    "seq = mid.process(ignore_velocity=False, merge_tracks=False, pitch_shift=12, time_scale=89/120)\n",
    "\n",
    "mid2 = MIDI(\n",
    "    # \"scratch/e0_fake_generated_piece_10_0.mid\",\n",
    "    time_quantization=CPI_TIME_QUANTIZATION,\n",
    "    time_unit=\"time\"\n",
    ")\n",
    "pm = mid2.to_midi(seq)\n",
    "pm.write(\"scratch/out.mid\")\n"
   ]
  }
 ],
 "metadata": {
  "kernelspec": {
   "display_name": "aimgef",
   "language": "python",
   "name": "python3"
  },
  "language_info": {
   "codemirror_mode": {
    "name": "ipython",
    "version": 3
   },
   "file_extension": ".py",
   "mimetype": "text/x-python",
   "name": "python",
   "nbconvert_exporter": "python",
   "pygments_lexer": "ipython3",
   "version": "3.9.16"
  },
  "orig_nbformat": 4,
  "vscode": {
   "interpreter": {
    "hash": "21669b83308f2670f5d1dacd9cba78799764a00ec55275d3d4a7124debaba5ea"
   }
  }
 },
 "nbformat": 4,
 "nbformat_minor": 2
}
